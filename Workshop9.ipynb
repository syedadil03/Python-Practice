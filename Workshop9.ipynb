{
 "cells": [
  {
   "cell_type": "markdown",
   "metadata": {},
   "source": [
    "# Functions"
   ]
  },
  {
   "cell_type": "markdown",
   "metadata": {},
   "source": [
    "Topics:\n",
    "    functions\n",
    "        function declaration\n",
    "        function body\n",
    "        function calling\n",
    "        \n",
    "    pre define function\n",
    "    \n",
    "    return function\n",
    "    non return function\n",
    "            default function\n",
    "            required function\n",
    "              positional/keyword arguments\n",
    "            opitional function\n",
    "    \n",
    "    user define function\n",
    "            same as above\n",
    "        \n",
    "    "
   ]
  },
  {
   "cell_type": "markdown",
   "metadata": {},
   "source": [
    "# Why we use functions in programming?"
   ]
  },
  {
   "cell_type": "code",
   "execution_count": 1,
   "metadata": {},
   "outputs": [
    {
     "name": "stdout",
     "output_type": "stream",
     "text": [
      "Hello Pakistan\n",
      "I love pakistan\n",
      "We love our country\n"
     ]
    }
   ],
   "source": [
    "print(\"Hello Pakistan\")\n",
    "print(\"I love pakistan\")\n",
    "print(\"We love our country\")"
   ]
  },
  {
   "cell_type": "code",
   "execution_count": 3,
   "metadata": {},
   "outputs": [
    {
     "name": "stdout",
     "output_type": "stream",
     "text": [
      "pakistan zinda bad\n",
      "We are pakistani\n",
      "We love our country\n",
      "pakistan zinda bad\n",
      "We are pakistani\n",
      "We love our country\n",
      "pakistan zinda bad\n",
      "We are pakistani\n",
      "We love our country\n"
     ]
    }
   ],
   "source": [
    "print(\"pakistan zinda bad\")\n",
    "print(\"We are pakistani\")\n",
    "print(\"We love our country\")\n",
    "\n",
    "print(\"pakistan zinda bad\")\n",
    "print(\"We are pakistani\")\n",
    "print(\"We love our country\")\n",
    "print(\"pakistan zinda bad\")\n",
    "print(\"We are pakistani\")\n",
    "print(\"We love our country\")"
   ]
  },
  {
   "cell_type": "markdown",
   "metadata": {},
   "source": [
    "# Now Create Functions\n",
    "\n"
   ]
  },
  {
   "cell_type": "code",
   "execution_count": 7,
   "metadata": {},
   "outputs": [
    {
     "name": "stdout",
     "output_type": "stream",
     "text": [
      "pakistan zinda bad\n",
      "We are pakistani\n",
      "We love our country\n",
      "Helloboys\n",
      "***********\n"
     ]
    }
   ],
   "source": [
    "# we have created defualt user define fucntion.\n",
    "\n",
    "def abc():# function declaration\n",
    "    print(\"pakistan zinda bad\")  # function body\n",
    "    print(\"We are pakistani\")\n",
    "    print(\"We love our country\")\n",
    "    \n",
    "abc()  # function calling\n",
    "print(\"Helloboys\")\n",
    "print(\"***********\")\n",
    "    "
   ]
  },
  {
   "cell_type": "markdown",
   "metadata": {},
   "source": [
    "# Non Return Vs Return Function"
   ]
  },
  {
   "cell_type": "code",
   "execution_count": 9,
   "metadata": {},
   "outputs": [
    {
     "name": "stdout",
     "output_type": "stream",
     "text": [
      "USA\n",
      "None\n"
     ]
    }
   ],
   "source": [
    "a = print(\"USA\")  # non return if a value is not assign in variable\n",
    "print(a) "
   ]
  },
  {
   "cell_type": "code",
   "execution_count": 12,
   "metadata": {},
   "outputs": [
    {
     "name": "stdout",
     "output_type": "stream",
     "text": [
      "Enter User No52\n",
      "52\n"
     ]
    }
   ],
   "source": [
    "a = input(\"Enter User No\") # return function\n",
    "print(a)"
   ]
  },
  {
   "cell_type": "code",
   "execution_count": 14,
   "metadata": {},
   "outputs": [
    {
     "data": {
      "text/plain": [
       "int"
      ]
     },
     "execution_count": 14,
     "metadata": {},
     "output_type": "execute_result"
    }
   ],
   "source": [
    "a = int(\"56\") # return function\n",
    "type(a)"
   ]
  },
  {
   "cell_type": "code",
   "execution_count": 19,
   "metadata": {},
   "outputs": [
    {
     "data": {
      "text/plain": [
       "float"
      ]
     },
     "execution_count": 19,
     "metadata": {},
     "output_type": "execute_result"
    }
   ],
   "source": [
    "a = 52.5 # return function\n",
    "type(a)"
   ]
  },
  {
   "cell_type": "markdown",
   "metadata": {},
   "source": [
    "# Required Argument Function"
   ]
  },
  {
   "cell_type": "code",
   "execution_count": 20,
   "metadata": {},
   "outputs": [
    {
     "name": "stdout",
     "output_type": "stream",
     "text": [
      "5\n",
      "7\n",
      "14\n"
     ]
    }
   ],
   "source": [
    "def add_two_numbers(n1,n2):\n",
    "    return n1 + n2\n",
    "\n",
    "a = add_two_numbers(2,3) #return function\n",
    "print(a)\n",
    "\n",
    "a = add_two_numbers(2,5) #return function\n",
    "print(a)\n",
    "\n",
    "a = add_two_numbers(5,9) #return function\n",
    "print(a)"
   ]
  },
  {
   "cell_type": "code",
   "execution_count": 21,
   "metadata": {},
   "outputs": [
    {
     "name": "stdout",
     "output_type": "stream",
     "text": [
      "5\n",
      "None\n"
     ]
    }
   ],
   "source": [
    "def add_two_numbers(n1,n2):\n",
    "    print(n1 + n2)\n",
    "    \n",
    "a = add_two_numbers(2,3) #return function\n",
    "print(a)"
   ]
  },
  {
   "cell_type": "code",
   "execution_count": 22,
   "metadata": {},
   "outputs": [
    {
     "ename": "TypeError",
     "evalue": "add_two_numbers() missing 1 required positional argument: 'n2'",
     "output_type": "error",
     "traceback": [
      "\u001b[1;31m---------------------------------------------------------------------------\u001b[0m",
      "\u001b[1;31mTypeError\u001b[0m                                 Traceback (most recent call last)",
      "\u001b[1;32m<ipython-input-22-688736e0be58>\u001b[0m in \u001b[0;36m<module>\u001b[1;34m\u001b[0m\n\u001b[1;32m----> 1\u001b[1;33m \u001b[0madd_two_numbers\u001b[0m\u001b[1;33m(\u001b[0m\u001b[1;36m8\u001b[0m\u001b[1;33m)\u001b[0m\u001b[1;33m\u001b[0m\u001b[1;33m\u001b[0m\u001b[0m\n\u001b[0m",
      "\u001b[1;31mTypeError\u001b[0m: add_two_numbers() missing 1 required positional argument: 'n2'"
     ]
    }
   ],
   "source": [
    "add_two_numbers(8)"
   ]
  },
  {
   "cell_type": "markdown",
   "metadata": {},
   "source": [
    "# postional Argument\n",
    "- def add_two_numbers(n1,n2):\n",
    "- add_two_numbers(6,7) # n1=6, n2=7"
   ]
  },
  {
   "cell_type": "code",
   "execution_count": 23,
   "metadata": {},
   "outputs": [
    {
     "name": "stdout",
     "output_type": "stream",
     "text": [
      "13\n"
     ]
    }
   ],
   "source": [
    "add_two_numbers(6,7)"
   ]
  },
  {
   "cell_type": "code",
   "execution_count": 24,
   "metadata": {},
   "outputs": [
    {
     "name": "stdout",
     "output_type": "stream",
     "text": [
      "4\n",
      "-7\n"
     ]
    }
   ],
   "source": [
    "def subtract_n1_n2(n1,n2):\n",
    "    return n1 - n2\n",
    "\n",
    "print(subtract_n1_n2(7,3))\n",
    "print(subtract_n1_n2(5,12))"
   ]
  },
  {
   "cell_type": "markdown",
   "metadata": {},
   "source": [
    "# Passing key word argument\n",
    " position doesnt matter variable name only matters it is used when you have to write in specific parameter"
   ]
  },
  {
   "cell_type": "code",
   "execution_count": 26,
   "metadata": {},
   "outputs": [
    {
     "name": "stdout",
     "output_type": "stream",
     "text": [
      "4\n",
      "7\n"
     ]
    }
   ],
   "source": [
    "def subtract_n1_n2(n1,n2):\n",
    "    return n1 - n2\n",
    "\n",
    "print(subtract_n1_n2(n1=7,n2=3))\n",
    "print(subtract_n1_n2(n2=5,n1=12))"
   ]
  },
  {
   "cell_type": "code",
   "execution_count": 27,
   "metadata": {},
   "outputs": [
    {
     "name": "stdout",
     "output_type": "stream",
     "text": [
      "\n",
      "    PIAIC Student Card\n",
      "    id: 25\n",
      "    fname: Adil\n",
      "    course: A.I\n",
      "    batch: 7\n",
      "    \n"
     ]
    }
   ],
   "source": [
    "def card(id, name, course, Batch):\n",
    "    return \"\"\"\n",
    "    PIAIC Student Card\n",
    "    id: {}\n",
    "    fname: {}\n",
    "    course: {}\n",
    "    batch: {}\n",
    "    \"\"\".format(id,name,course,Batch)\n",
    "print(card(25, \"Adil\", \"A.I\", 7))"
   ]
  },
  {
   "cell_type": "code",
   "execution_count": 28,
   "metadata": {},
   "outputs": [
    {
     "name": "stdout",
     "output_type": "stream",
     "text": [
      "\n",
      "    PIAIC Student Card\n",
      "    id: 25\n",
      "    fname: 7\n",
      "    course: A.I\n",
      "    batch: Adil\n",
      "    \n"
     ]
    }
   ],
   "source": [
    "print(card(25, \"7\", \"A.I\", \"Adil\")) # this is wrong you have to provide keyword so the value should be placed correct"
   ]
  },
  {
   "cell_type": "code",
   "execution_count": 30,
   "metadata": {},
   "outputs": [
    {
     "name": "stdout",
     "output_type": "stream",
     "text": [
      "\n",
      "    PIAIC Student Card\n",
      "    id: 25\n",
      "    fname: Adil\n",
      "    course: A.I\n",
      "    batch: 7\n",
      "    \n"
     ]
    }
   ],
   "source": [
    "print(card(id=25, Batch=\"7\", course=\"A.I\", name=\"Adil\"))"
   ]
  },
  {
   "cell_type": "code",
   "execution_count": 31,
   "metadata": {},
   "outputs": [
    {
     "ename": "TypeError",
     "evalue": "card() missing 2 required positional arguments: 'course' and 'Batch'",
     "output_type": "error",
     "traceback": [
      "\u001b[1;31m---------------------------------------------------------------------------\u001b[0m",
      "\u001b[1;31mTypeError\u001b[0m                                 Traceback (most recent call last)",
      "\u001b[1;32m<ipython-input-31-610f95a20cfe>\u001b[0m in \u001b[0;36m<module>\u001b[1;34m\u001b[0m\n\u001b[1;32m----> 1\u001b[1;33m \u001b[0mcard\u001b[0m\u001b[1;33m(\u001b[0m\u001b[1;36m1\u001b[0m\u001b[1;33m,\u001b[0m\u001b[1;34m'A'\u001b[0m\u001b[1;33m)\u001b[0m\u001b[1;33m\u001b[0m\u001b[1;33m\u001b[0m\u001b[0m\n\u001b[0m",
      "\u001b[1;31mTypeError\u001b[0m: card() missing 2 required positional arguments: 'course' and 'Batch'"
     ]
    }
   ],
   "source": [
    "card(1,'A')"
   ]
  },
  {
   "cell_type": "markdown",
   "metadata": {},
   "source": [
    "# pass postional argument with list"
   ]
  },
  {
   "cell_type": "code",
   "execution_count": 32,
   "metadata": {},
   "outputs": [],
   "source": [
    "def card(id, name, fname, course):\n",
    "    return \"\"\"\n",
    "    PIAIC Student Card\n",
    "    Name: {}\n",
    "    Fahter's Name: {}\n",
    "    Course: {}\n",
    "    Timing: {}\n",
    "    \"\"\".format(id,name,fname, course)"
   ]
  },
  {
   "cell_type": "code",
   "execution_count": 34,
   "metadata": {},
   "outputs": [
    {
     "name": "stdout",
     "output_type": "stream",
     "text": [
      "\n",
      "    PIAIC Student Card\n",
      "    Name: 0\n",
      "    Fahter's Name: Ali\n",
      "    Course: Khan\n",
      "    Timing: A.I\n",
      "    \n"
     ]
    }
   ],
   "source": [
    "info = [0,\"Ali\",\"Khan\", \"A.I\"]\n",
    "print(card(info[0], info[1], info[2], info[3])) # it takes a lot of time"
   ]
  },
  {
   "cell_type": "code",
   "execution_count": 35,
   "metadata": {},
   "outputs": [
    {
     "name": "stdout",
     "output_type": "stream",
     "text": [
      "\n",
      "    PIAIC Student Card\n",
      "    Name: 0\n",
      "    Fahter's Name: Ali\n",
      "    Course: Khan\n",
      "    Timing: A.I\n",
      "    \n"
     ]
    }
   ],
   "source": [
    "info = [0,\"Ali\",\"Khan\", \"A.I\"]\n",
    "print(card(*info))"
   ]
  },
  {
   "cell_type": "code",
   "execution_count": 36,
   "metadata": {},
   "outputs": [
    {
     "name": "stdout",
     "output_type": "stream",
     "text": [
      "\n",
      "    PIAIC Student Card\n",
      "    Name: 0\n",
      "    Fahter's Name: Ali\n",
      "    Course: Khan\n",
      "    Timing: A.I\n",
      "    \n"
     ]
    }
   ],
   "source": [
    "info = (0,\"Ali\",\"Khan\", \"A.I\")\n",
    "print(card(*info))"
   ]
  },
  {
   "cell_type": "markdown",
   "metadata": {},
   "source": [
    "# pass keyword arguments with dictionary"
   ]
  },
  {
   "cell_type": "code",
   "execution_count": null,
   "metadata": {},
   "outputs": [],
   "source": []
  },
  {
   "cell_type": "code",
   "execution_count": 31,
   "metadata": {},
   "outputs": [],
   "source": [
    "def card(sid, name, fname, course):\n",
    "    return \"\"\"\n",
    "    PIAIC Student Card\n",
    "    Id: {}\n",
    "    Name: {}\n",
    "    Fahter's Name: {}\n",
    "    Course: {}\n",
    "    \"\"\".format(sid,name,fname, course)\n"
   ]
  },
  {
   "cell_type": "code",
   "execution_count": 32,
   "metadata": {},
   "outputs": [
    {
     "name": "stdout",
     "output_type": "stream",
     "text": [
      "\n",
      "    PIAIC Student Card\n",
      "    Id: 27\n",
      "    Name: Qasim\n",
      "    Fahter's Name: Aslam\n",
      "    Course: A.I\n",
      "    \n"
     ]
    }
   ],
   "source": [
    "dic = {'name':'Qasim',\n",
    "      'fname':\"Aslam\",\n",
    "      'course':\"A.I\",\n",
    "      'sid': 27}\n",
    "\n",
    "print(card(**dic))"
   ]
  },
  {
   "cell_type": "markdown",
   "metadata": {},
   "source": [
    "# set defual argument values"
   ]
  },
  {
   "cell_type": "code",
   "execution_count": 35,
   "metadata": {},
   "outputs": [
    {
     "ename": "TypeError",
     "evalue": "xyz() missing 1 required positional argument: 'z'",
     "output_type": "error",
     "traceback": [
      "\u001b[1;31m---------------------------------------------------------------------------\u001b[0m",
      "\u001b[1;31mTypeError\u001b[0m                                 Traceback (most recent call last)",
      "\u001b[1;32m<ipython-input-35-c9020ee422b4>\u001b[0m in \u001b[0;36m<module>\u001b[1;34m\u001b[0m\n\u001b[0;32m      1\u001b[0m \u001b[1;32mdef\u001b[0m \u001b[0mxyz\u001b[0m\u001b[1;33m(\u001b[0m\u001b[0mx\u001b[0m\u001b[1;33m,\u001b[0m\u001b[0my\u001b[0m\u001b[1;33m,\u001b[0m\u001b[0mz\u001b[0m\u001b[1;33m)\u001b[0m\u001b[1;33m:\u001b[0m\u001b[1;33m\u001b[0m\u001b[1;33m\u001b[0m\u001b[0m\n\u001b[0;32m      2\u001b[0m     \u001b[1;32mreturn\u001b[0m \u001b[0mx\u001b[0m\u001b[1;33m+\u001b[0m\u001b[0my\u001b[0m\u001b[1;33m+\u001b[0m\u001b[0mz\u001b[0m \u001b[1;31m# required Arguments\u001b[0m\u001b[1;33m\u001b[0m\u001b[1;33m\u001b[0m\u001b[0m\n\u001b[1;32m----> 3\u001b[1;33m \u001b[0mxyz\u001b[0m\u001b[1;33m(\u001b[0m\u001b[1;36m2\u001b[0m\u001b[1;33m,\u001b[0m\u001b[1;36m9\u001b[0m\u001b[1;33m)\u001b[0m\u001b[1;33m\u001b[0m\u001b[1;33m\u001b[0m\u001b[0m\n\u001b[0m",
      "\u001b[1;31mTypeError\u001b[0m: xyz() missing 1 required positional argument: 'z'"
     ]
    }
   ],
   "source": [
    "def xyz(x,y,z):\n",
    "    return x+y+z # required Arguments\n",
    "xyz(2,9)"
   ]
  },
  {
   "cell_type": "code",
   "execution_count": 45,
   "metadata": {},
   "outputs": [
    {
     "name": "stdout",
     "output_type": "stream",
     "text": [
      "2 9 0\n"
     ]
    },
    {
     "data": {
      "text/plain": [
       "11"
      ]
     },
     "execution_count": 45,
     "metadata": {},
     "output_type": "execute_result"
    }
   ],
   "source": [
    "def xyz_add(x=0,y=0,z=0):\n",
    "    print(x,y,z)\n",
    "    return x+y+z\n",
    "xyz_add(2,9)"
   ]
  },
  {
   "cell_type": "code",
   "execution_count": 46,
   "metadata": {},
   "outputs": [
    {
     "name": "stdout",
     "output_type": "stream",
     "text": [
      "8 20 5\n"
     ]
    },
    {
     "data": {
      "text/plain": [
       "33"
      ]
     },
     "execution_count": 46,
     "metadata": {},
     "output_type": "execute_result"
    }
   ],
   "source": [
    "xyz_add(8,20,5)"
   ]
  },
  {
   "cell_type": "code",
   "execution_count": 47,
   "metadata": {},
   "outputs": [
    {
     "name": "stdout",
     "output_type": "stream",
     "text": [
      "0 0 0\n"
     ]
    },
    {
     "data": {
      "text/plain": [
       "0"
      ]
     },
     "execution_count": 47,
     "metadata": {},
     "output_type": "execute_result"
    }
   ],
   "source": [
    "xyz_add()"
   ]
  },
  {
   "cell_type": "markdown",
   "metadata": {},
   "source": [
    "# Create function with unlimited parameters"
   ]
  },
  {
   "cell_type": "code",
   "execution_count": 62,
   "metadata": {},
   "outputs": [
    {
     "data": {
      "text/plain": [
       "5"
      ]
     },
     "execution_count": 62,
     "metadata": {},
     "output_type": "execute_result"
    }
   ],
   "source": [
    "def add_numbers(n1, *name):\n",
    "    return n1 + sum(name)\n",
    "add_numbers(5)"
   ]
  },
  {
   "cell_type": "code",
   "execution_count": 63,
   "metadata": {},
   "outputs": [
    {
     "data": {
      "text/plain": [
       "22"
      ]
     },
     "execution_count": 63,
     "metadata": {},
     "output_type": "execute_result"
    }
   ],
   "source": [
    "add_numbers(5,6,9,2)"
   ]
  },
  {
   "cell_type": "code",
   "execution_count": 65,
   "metadata": {},
   "outputs": [
    {
     "ename": "TypeError",
     "evalue": "add_numbers() got an unexpected keyword argument 'n2'",
     "output_type": "error",
     "traceback": [
      "\u001b[1;31m---------------------------------------------------------------------------\u001b[0m",
      "\u001b[1;31mTypeError\u001b[0m                                 Traceback (most recent call last)",
      "\u001b[1;32m<ipython-input-65-a053184f3ecc>\u001b[0m in \u001b[0;36m<module>\u001b[1;34m\u001b[0m\n\u001b[1;32m----> 1\u001b[1;33m \u001b[0madd_numbers\u001b[0m\u001b[1;33m(\u001b[0m\u001b[1;36m2\u001b[0m\u001b[1;33m,\u001b[0m\u001b[0mn2\u001b[0m\u001b[1;33m=\u001b[0m\u001b[1;36m3\u001b[0m\u001b[1;33m,\u001b[0m\u001b[0mn3\u001b[0m\u001b[1;33m=\u001b[0m\u001b[1;36m6\u001b[0m\u001b[1;33m)\u001b[0m\u001b[1;33m\u001b[0m\u001b[1;33m\u001b[0m\u001b[0m\n\u001b[0m",
      "\u001b[1;31mTypeError\u001b[0m: add_numbers() got an unexpected keyword argument 'n2'"
     ]
    }
   ],
   "source": [
    "add_numbers(2,n2=3,n3=6)"
   ]
  },
  {
   "cell_type": "markdown",
   "metadata": {},
   "source": [
    "# Create function with unlimited parameters (Keywords)"
   ]
  },
  {
   "cell_type": "code",
   "execution_count": 70,
   "metadata": {},
   "outputs": [],
   "source": [
    "# Create function with unlimited parameters (key words)\n",
    "def key_numbers(n1, **d):\n",
    "    list = []\n",
    "    list.append(n1)\n",
    "    \n",
    "    print(d)\n",
    "    for k, v in d.items():\n",
    "        list.append(d[k])\n",
    "        \n",
    "        return sum(list)\n",
    "    "
   ]
  },
  {
   "cell_type": "code",
   "execution_count": 71,
   "metadata": {},
   "outputs": [
    {
     "name": "stdout",
     "output_type": "stream",
     "text": [
      "{'n2': 55, 'n3': 8562}\n"
     ]
    },
    {
     "data": {
      "text/plain": [
       "100"
      ]
     },
     "execution_count": 71,
     "metadata": {},
     "output_type": "execute_result"
    }
   ],
   "source": [
    "key_numbers(n1=45,n2=55,n3=8562)"
   ]
  },
  {
   "cell_type": "code",
   "execution_count": null,
   "metadata": {},
   "outputs": [],
   "source": []
  }
 ],
 "metadata": {
  "kernelspec": {
   "display_name": "Python 3",
   "language": "python",
   "name": "python3"
  },
  "language_info": {
   "codemirror_mode": {
    "name": "ipython",
    "version": 3
   },
   "file_extension": ".py",
   "mimetype": "text/x-python",
   "name": "python",
   "nbconvert_exporter": "python",
   "pygments_lexer": "ipython3",
   "version": "3.7.6"
  }
 },
 "nbformat": 4,
 "nbformat_minor": 4
}
