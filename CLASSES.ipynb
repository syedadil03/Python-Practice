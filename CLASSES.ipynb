{
 "cells": [
  {
   "cell_type": "markdown",
   "metadata": {},
   "source": [
    "# Classes"
   ]
  },
  {
   "cell_type": "code",
   "execution_count": 1,
   "metadata": {},
   "outputs": [],
   "source": [
    "# how to define a class"
   ]
  },
  {
   "cell_type": "code",
   "execution_count": 142,
   "metadata": {},
   "outputs": [],
   "source": [
    "class Car():\n",
    "    # attributes >>>>>> are variables in programming\n",
    "    #################################################\n",
    "    def __init__(self, brand, engine_cc, year, transmission, color):\n",
    "        self.brand = brand\n",
    "        self.engine_cc = engine_cc \n",
    "        self.year = year\n",
    "        self.transmission = transmission\n",
    "        self.color = color\n",
    "        self.battery = \"400V\" # Default Attributes\n",
    "        \n",
    "    # behaviour >>>>>>> are functions in programming\n",
    "    ###############################################\n",
    "    def car_details(self):\n",
    "        print(f\"Your car is {self.brand}\")\n",
    "        print(f\"Your car Engine Power has {self.engine_cc}\")\n",
    "        print(f\"Your car has been manufactured in {self.year}\")\n",
    "        print(f\"Your car is {self.transmission}\")\n",
    "        print(f\"Your car is {self.color}\")\n",
    "        \n",
    "    def move(self):\n",
    "        print(f\"{self.brand} is moving with high speed\")\n",
    "    def applying_break(self):\n",
    "        print(f\"{self.brand} has applied break\")\n",
    "    def car_battery(self):\n",
    "        print(f\"Your car battery power is {self.battery}\")\n",
    "        \n",
    "        # changing via Functions\n",
    "        \n",
    "    def setbatterysize(self, new_size):\n",
    "        self.battery = new_size\n",
    "    def getbatterysize(self):\n",
    "        print(f\"Your car battery size is {self.battery}\")\n",
    "        "
   ]
  },
  {
   "cell_type": "code",
   "execution_count": 143,
   "metadata": {},
   "outputs": [],
   "source": [
    "# how to define object"
   ]
  },
  {
   "cell_type": "code",
   "execution_count": 144,
   "metadata": {},
   "outputs": [],
   "source": [
    "car1 = Car(\"Honda\", \"1300CC\", 2019, \"Automatic\",\" Black\")"
   ]
  },
  {
   "cell_type": "code",
   "execution_count": 145,
   "metadata": {},
   "outputs": [],
   "source": [
    "car2 = Car(\"Suzuki\", \"1000CC\", 2020, \"Manual\", \"White\")"
   ]
  },
  {
   "cell_type": "code",
   "execution_count": 146,
   "metadata": {},
   "outputs": [],
   "source": [
    "car3 = Car(\"Toyota\", \"1300CC\" , 2020, \"Automatic\", \"Brown\")"
   ]
  },
  {
   "cell_type": "code",
   "execution_count": 147,
   "metadata": {},
   "outputs": [
    {
     "data": {
      "text/plain": [
       "'Honda'"
      ]
     },
     "execution_count": 147,
     "metadata": {},
     "output_type": "execute_result"
    }
   ],
   "source": [
    "car1.brand"
   ]
  },
  {
   "cell_type": "code",
   "execution_count": 148,
   "metadata": {},
   "outputs": [
    {
     "data": {
      "text/plain": [
       "'Suzuki'"
      ]
     },
     "execution_count": 148,
     "metadata": {},
     "output_type": "execute_result"
    }
   ],
   "source": [
    "car2.brand"
   ]
  },
  {
   "cell_type": "code",
   "execution_count": 149,
   "metadata": {},
   "outputs": [
    {
     "data": {
      "text/plain": [
       "'Toyota'"
      ]
     },
     "execution_count": 149,
     "metadata": {},
     "output_type": "execute_result"
    }
   ],
   "source": [
    "car3.brand"
   ]
  },
  {
   "cell_type": "code",
   "execution_count": 150,
   "metadata": {},
   "outputs": [
    {
     "name": "stdout",
     "output_type": "stream",
     "text": [
      "Your car is Honda\n",
      "Your car Engine Power has 1300CC\n",
      "Your car has been manufactured in 2019\n",
      "Your car is Automatic\n",
      "Your car is  Black\n"
     ]
    }
   ],
   "source": [
    "car1.car_details()"
   ]
  },
  {
   "cell_type": "code",
   "execution_count": 151,
   "metadata": {},
   "outputs": [
    {
     "name": "stdout",
     "output_type": "stream",
     "text": [
      "Your car is Suzuki\n",
      "Your car Engine Power has 1000CC\n",
      "Your car has been manufactured in 2020\n",
      "Your car is Manual\n",
      "Your car is White\n"
     ]
    }
   ],
   "source": [
    "car2.car_details()"
   ]
  },
  {
   "cell_type": "code",
   "execution_count": 152,
   "metadata": {},
   "outputs": [
    {
     "data": {
      "text/plain": [
       "'1000CC'"
      ]
     },
     "execution_count": 152,
     "metadata": {},
     "output_type": "execute_result"
    }
   ],
   "source": [
    "car2.engine_cc"
   ]
  },
  {
   "cell_type": "markdown",
   "metadata": {},
   "source": [
    "# Changing an Attributes values"
   ]
  },
  {
   "cell_type": "markdown",
   "metadata": {},
   "source": [
    "# 1) Direct hit the attributes\n",
    "# 2) Via function (get set)"
   ]
  },
  {
   "cell_type": "code",
   "execution_count": 153,
   "metadata": {},
   "outputs": [
    {
     "name": "stdout",
     "output_type": "stream",
     "text": [
      "Honda is moving with high speed\n"
     ]
    }
   ],
   "source": [
    "car1.move()"
   ]
  },
  {
   "cell_type": "code",
   "execution_count": 154,
   "metadata": {},
   "outputs": [
    {
     "data": {
      "text/plain": [
       "'Honda'"
      ]
     },
     "execution_count": 154,
     "metadata": {},
     "output_type": "execute_result"
    }
   ],
   "source": [
    "car1.brand"
   ]
  },
  {
   "cell_type": "code",
   "execution_count": 155,
   "metadata": {},
   "outputs": [],
   "source": [
    "car1.brand = \"BMW\""
   ]
  },
  {
   "cell_type": "code",
   "execution_count": 156,
   "metadata": {},
   "outputs": [
    {
     "data": {
      "text/plain": [
       "'BMW'"
      ]
     },
     "execution_count": 156,
     "metadata": {},
     "output_type": "execute_result"
    }
   ],
   "source": [
    "car1.brand"
   ]
  },
  {
   "cell_type": "code",
   "execution_count": 157,
   "metadata": {},
   "outputs": [],
   "source": [
    "car1.color = \"Yellow\""
   ]
  },
  {
   "cell_type": "code",
   "execution_count": 158,
   "metadata": {},
   "outputs": [
    {
     "name": "stdout",
     "output_type": "stream",
     "text": [
      "Your car is BMW\n",
      "Your car Engine Power has 1300CC\n",
      "Your car has been manufactured in 2019\n",
      "Your car is Automatic\n",
      "Your car is Yellow\n"
     ]
    }
   ],
   "source": [
    "car1.car_details()"
   ]
  },
  {
   "cell_type": "code",
   "execution_count": 159,
   "metadata": {},
   "outputs": [
    {
     "name": "stdout",
     "output_type": "stream",
     "text": [
      "Your car battery power is 400V\n"
     ]
    }
   ],
   "source": [
    "car3.car_battery()"
   ]
  },
  {
   "cell_type": "code",
   "execution_count": 160,
   "metadata": {},
   "outputs": [],
   "source": [
    "car2.car_battery = \"200V\""
   ]
  },
  {
   "cell_type": "code",
   "execution_count": 161,
   "metadata": {},
   "outputs": [
    {
     "data": {
      "text/plain": [
       "'200V'"
      ]
     },
     "execution_count": 161,
     "metadata": {},
     "output_type": "execute_result"
    }
   ],
   "source": [
    "car2.car_battery"
   ]
  },
  {
   "cell_type": "markdown",
   "metadata": {},
   "source": [
    "# Changing Attributes Via Functions"
   ]
  },
  {
   "cell_type": "code",
   "execution_count": 162,
   "metadata": {},
   "outputs": [],
   "source": [
    "car1.getbatterysize = \"200V\""
   ]
  },
  {
   "cell_type": "code",
   "execution_count": 163,
   "metadata": {},
   "outputs": [
    {
     "data": {
      "text/plain": [
       "'200V'"
      ]
     },
     "execution_count": 163,
     "metadata": {},
     "output_type": "execute_result"
    }
   ],
   "source": [
    "car1.getbatterysize"
   ]
  },
  {
   "cell_type": "code",
   "execution_count": 164,
   "metadata": {},
   "outputs": [
    {
     "data": {
      "text/plain": [
       "'200V'"
      ]
     },
     "execution_count": 164,
     "metadata": {},
     "output_type": "execute_result"
    }
   ],
   "source": [
    "car2.car_battery"
   ]
  },
  {
   "cell_type": "code",
   "execution_count": 165,
   "metadata": {},
   "outputs": [],
   "source": [
    "car2.setbatterysize = \"802V\""
   ]
  },
  {
   "cell_type": "code",
   "execution_count": 166,
   "metadata": {},
   "outputs": [
    {
     "data": {
      "text/plain": [
       "'802V'"
      ]
     },
     "execution_count": 166,
     "metadata": {},
     "output_type": "execute_result"
    }
   ],
   "source": [
    "car2.setbatterysize"
   ]
  },
  {
   "cell_type": "code",
   "execution_count": 167,
   "metadata": {},
   "outputs": [
    {
     "name": "stdout",
     "output_type": "stream",
     "text": [
      "Your car battery size is 400V\n"
     ]
    }
   ],
   "source": [
    "car3.getbatterysize()"
   ]
  },
  {
   "cell_type": "code",
   "execution_count": 169,
   "metadata": {},
   "outputs": [
    {
     "name": "stdout",
     "output_type": "stream",
     "text": [
      "Your car battery size is 400V\n"
     ]
    }
   ],
   "source": [
    "car2.getbatterysize()"
   ]
  },
  {
   "cell_type": "code",
   "execution_count": 171,
   "metadata": {},
   "outputs": [],
   "source": [
    "car3.setbatterysize(\"7855V\")"
   ]
  },
  {
   "cell_type": "code",
   "execution_count": 172,
   "metadata": {},
   "outputs": [
    {
     "name": "stdout",
     "output_type": "stream",
     "text": [
      "Your car battery size is 7855V\n"
     ]
    }
   ],
   "source": [
    "car3.getbatterysize()"
   ]
  },
  {
   "cell_type": "code",
   "execution_count": null,
   "metadata": {},
   "outputs": [],
   "source": []
  },
  {
   "cell_type": "code",
   "execution_count": 1,
   "metadata": {},
   "outputs": [],
   "source": [
    "class jobs():\n",
    "    def __init__(employees, salary, sales, experience, age):\n",
    "        employees.salary = salary\n",
    "        employees.sales = sales\n",
    "        employees.experience = experience\n",
    "        employees.age = age\n",
    "        \n",
    "    \n",
    "    def job_details(employees):\n",
    "        print(f\"Your monthly salary is {employees.salary}\")\n",
    "        print(f\"Your monthly sales are {employees.sales}\")\n",
    "        print(f\"You have {employees.experience}\")\n",
    "        print(f\"Your age is {employees.age}\")\n",
    "    \n",
    "    def best_employees(employees):\n",
    "        print(f\"{employees.experience} these are the best men in your organization\")"
   ]
  },
  {
   "cell_type": "code",
   "execution_count": 4,
   "metadata": {},
   "outputs": [],
   "source": [
    "MrAkram = jobs(50000, 650, \"Intermediate Experience\", 35)"
   ]
  },
  {
   "cell_type": "code",
   "execution_count": 5,
   "metadata": {},
   "outputs": [],
   "source": [
    "MrRauf = jobs(25000, 120, \"Beginner experience\", 25)"
   ]
  },
  {
   "cell_type": "code",
   "execution_count": 6,
   "metadata": {},
   "outputs": [],
   "source": [
    "MrShehzad = jobs (80000, 800, \"Top Expertise\", 45)"
   ]
  },
  {
   "cell_type": "code",
   "execution_count": 7,
   "metadata": {},
   "outputs": [
    {
     "name": "stdout",
     "output_type": "stream",
     "text": [
      "Your monthly salary is 50000\n",
      "Your monthly sales are 650\n",
      "You have Intermediate Experience\n",
      "Your age is 35\n"
     ]
    }
   ],
   "source": [
    "MrAkram.job_details()"
   ]
  },
  {
   "cell_type": "code",
   "execution_count": 8,
   "metadata": {},
   "outputs": [
    {
     "name": "stdout",
     "output_type": "stream",
     "text": [
      "Your monthly salary is 80000\n",
      "Your monthly sales are 800\n",
      "You have Top Expertise\n",
      "Your age is 45\n"
     ]
    }
   ],
   "source": [
    "MrShehzad.job_details()"
   ]
  },
  {
   "cell_type": "code",
   "execution_count": 11,
   "metadata": {},
   "outputs": [],
   "source": [
    "MrShehzad.salary = \"100000\""
   ]
  },
  {
   "cell_type": "code",
   "execution_count": 12,
   "metadata": {},
   "outputs": [],
   "source": [
    "MrShehzad.experience = \"Superstar\""
   ]
  },
  {
   "cell_type": "code",
   "execution_count": 13,
   "metadata": {},
   "outputs": [
    {
     "name": "stdout",
     "output_type": "stream",
     "text": [
      "Your monthly salary is 100000\n",
      "Your monthly sales are 800\n",
      "You have Superstar\n",
      "Your age is 45\n"
     ]
    }
   ],
   "source": [
    "MrShehzad.job_details()"
   ]
  },
  {
   "cell_type": "code",
   "execution_count": null,
   "metadata": {},
   "outputs": [],
   "source": []
  }
 ],
 "metadata": {
  "kernelspec": {
   "display_name": "Python 3",
   "language": "python",
   "name": "python3"
  },
  "language_info": {
   "codemirror_mode": {
    "name": "ipython",
    "version": 3
   },
   "file_extension": ".py",
   "mimetype": "text/x-python",
   "name": "python",
   "nbconvert_exporter": "python",
   "pygments_lexer": "ipython3",
   "version": "3.7.6"
  }
 },
 "nbformat": 4,
 "nbformat_minor": 4
}
